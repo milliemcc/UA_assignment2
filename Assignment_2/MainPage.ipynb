{
 "cells": [
  {
   "attachments": {},
   "cell_type": "markdown",
   "id": "1965c421-c313-4e02-815e-0bbcfd039238",
   "metadata": {},
   "source": [
    "# GG4257 - Urban Analytics: A Toolkit for Sustainable Urban Development\n",
    "## Lab Assignment No 2\n",
    "\n",
    "# General Information\n",
    "- **Student ID No:** 220015902\n",
    "- **Degree Programme:** Geography (MA)\n",
    "- **Deadline Date:** 2 April 2025\n",
    "\n",
    "# GitHub Repository\n",
    "- **GitHub Link:** https://github.com/milliemcc/UA_assignment2\n",
    "\n",
    "# Declaration\n",
    "\n",
    "In submitting this assignment, I hereby confirm that I have read the University's statement on Good Academic Practice. The following work is my own. Significant academic debts and borrowings have been properly acknowledged and referenced."
   ]
  },
  {
   "cell_type": "code",
   "execution_count": 6,
   "id": "da4d929a-dc25-429f-b6dd-15755601be5d",
   "metadata": {},
   "outputs": [
    {
     "name": "stdout",
     "output_type": "stream",
     "text": [
      "/Users/milliemccallum/Documents/Lab_assignment_2\n"
     ]
    }
   ],
   "source": [
    "cd Lab_assignment_2"
   ]
  },
  {
   "cell_type": "markdown",
   "id": "64a7e45d-98a1-4c95-a8e4-eee18668ba28",
   "metadata": {},
   "source": [
    "# Table of Content\n",
    "\n",
    "1. [Introduction](#Introducction)\n",
    "   \n",
    "2. <a href=\"Lab_assignment_2/Assignment_2/lab5_challenges.ipynb\">Lab No 5: Intro to networks</a>\n",
    " \n",
    "\n",
    "3. <a href=\"Assignment_2/Lab6_challenges.ipynb\">Lab No 6: Geodemographics</a>\n",
    "\n",
    "4. <a href=\"Assignment_2/Lab7.ipynb\">Lab No 7: Spatial microsimulation</a>\n",
    "\n"
   ]
  },
  {
   "cell_type": "markdown",
   "id": "7651068d-19d1-4dcc-b530-a2fc98f6156c",
   "metadata": {},
   "source": [
    "# Introduction\n"
   ]
  },
  {
   "cell_type": "markdown",
   "id": "16b9c8c6-e73b-45f8-ac25-7c44070341eb",
   "metadata": {},
   "source": [
    "How to Replicate the Code and get the required data:\n",
    "\n",
    "\n",
    "\n",
    "To clone the repository from GitHub to your local computer if you wish to replicate the code, type the following into your terminal and press ENTER to create a local clone: \n",
    "\n",
    "\"git clone https://github.com/milliemcc/Lab_assignment_2\"\n",
    "\n",
    "\n",
    "\n",
    "The data used in this repository is stored locally. To access this, please download the following folder into your working directory and ensure the code for the directory is altered appropriately to fetch the required data. The folder is divided into three sub-folders according to each lab. \n",
    "\n",
    "Download the folder from the following link to your local directory:\n",
    "\n",
    "Data: https://drive.google.com/drive/folders/18x7YQ1McSJilgWKYF1qKOOhAt_iKr3-G?usp=sharing\n",
    "\n",
    "\n",
    "The following repository is split into four sections: \n",
    "- Lab 5\n",
    "- Lab 6\n",
    "- Lab 7\n",
    "\n"
   ]
  },
  {
   "cell_type": "markdown",
   "id": "566fd8f3-1901-4344-adb7-7076aa854446",
   "metadata": {},
   "source": [
    "# Final Remarks"
   ]
  },
  {
   "cell_type": "markdown",
   "id": "7d130c10-47a4-4ce2-9714-19d10afef714",
   "metadata": {},
   "source": [
    "- Limitations\n",
    "- Barriers\n",
    "- and Additional Comments"
   ]
  },
  {
   "cell_type": "markdown",
   "id": "efb6728c-d89c-4a41-b0fb-bbdf70cf9017",
   "metadata": {},
   "source": [
    "These labs work together to provide an introduction to networks, geodemographics and spatial microsimulation. \n",
    "\n",
    "During lab 5, challenges were encountered regarding the size of the network and the capability of the computer, where python took a significantly long period of time to load the cells. \n",
    "\n",
    "During Lab 6, due to the subjectivity of the variables included in the geodemographic classification, the usefuleness of the outputs may be limited. To improve this, further research should be conducted into the individual variables to better inform the variable choices made. "
   ]
  }
 ],
 "metadata": {
  "kernelspec": {
   "display_name": "Python 3 (ipykernel)",
   "language": "python",
   "name": "python3"
  },
  "language_info": {
   "codemirror_mode": {
    "name": "ipython",
    "version": 3
   },
   "file_extension": ".py",
   "mimetype": "text/x-python",
   "name": "python",
   "nbconvert_exporter": "python",
   "pygments_lexer": "ipython3",
   "version": "3.11.6"
  }
 },
 "nbformat": 4,
 "nbformat_minor": 5
}
